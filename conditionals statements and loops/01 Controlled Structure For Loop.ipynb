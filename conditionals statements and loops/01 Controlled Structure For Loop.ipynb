{
 "cells": [
  {
   "cell_type": "markdown",
   "metadata": {},
   "source": [
    "<h6><div style=\"font-family: Trebuchet MS; background-color: #1b191d; color: #FFFFFF; padding: 12px; font-size: 35px; line-height: 1.5;text-align: center; line-height: 1.;\">🅶🆄 🆁🅰🅽🅽🅰 🅶🅾🆄🅳🅰--🅳🅰🆃🅰🆂🅲🅸🅴🅽🆃 👨‍💻</div> </h6>"
   ]
  },
  {
   "cell_type": "markdown",
   "metadata": {},
   "source": [
    "<h1 style=\"font-family: Trebuchet MS; padding: 10px; font-size: 40px; color: #19AADE; text-align: center; line-height: 1.;\"><b><span style=\"color: #000000\"> Loops in Python </span></b><br><span style=\"color: #19AADE; font-size: 24px\"></span></h1>\n",
    "<hr>"
   ]
  },
  {
   "cell_type": "raw",
   "metadata": {},
   "source": [
    "1. The for loop in Python is used to iterate over a sequence (list, tuple, string) or other iterable objects. \n",
    "\n",
    "\n",
    "2. Iterating over a sequence is called traversal.\n",
    "\n",
    "Two Types of Loop:\n",
    "\n",
    "1. For Loop\n",
    "\n",
    "\n",
    "2. While Loop"
   ]
  },
  {
   "cell_type": "markdown",
   "metadata": {},
   "source": [
    "<h2><div style=\"font-family: Trebuchet MS; background-color: #1b191d; color: #FFFFFF; padding: 12px; font-size: 35px; line-height: 1.5;text-align: center; line-height: 1.;\">🅵🅾🆁--🅻🅾🅾🅿--🧨💥</div> "
   ]
  },
  {
   "cell_type": "raw",
   "metadata": {},
   "source": [
    "1. The for loop in Python is used to iterate the statements or a part of the program several times. \n",
    "\n",
    "2. It is frequently used to traverse the data structures like list, tuple, or dictionary.\n",
    "\n",
    "The syntax of for loop in python is given below.\n",
    "\n",
    "for iterating_var in sequence:    \n",
    "    statement(s)    "
   ]
  },
  {
   "cell_type": "markdown",
   "metadata": {},
   "source": [
    "<h8><div style=\"font-family: Trebuchet MS; background-color: #1b191d; color: #FFFFFF; padding: 12px; font-size: 35px; line-height: 1.5;text-align: center; line-height: 1.;\">🅵🅾🆁--🅻🅾🅾🅿 🆄🆂🅸🅽🅶-🆁🅰🅽🅶🅴()-🅵🆄🅽🅲🆃🅸🅾🅽</div> </h8>"
   ]
  },
  {
   "cell_type": "markdown",
   "metadata": {},
   "source": [
    "<h6><div style=\"font-family: Trebuchet MS; background-color: #1b191d; color: #FFFFFF; padding: 12px; font-size: 35px; line-height: 1.5;text-align: center; line-height: 1.;\">🆁🅰🅽🅶🅴()-🅵🆄🅽🅲🆃🅸🅾🅽</div> </h6>"
   ]
  },
  {
   "cell_type": "raw",
   "metadata": {},
   "source": [
    "\n",
    "The range() function is used to generate the sequence of the numbers. If we pass the range(10), it will generate the numbers from 0 to 9. The syntax of the range() function is given below."
   ]
  },
  {
   "cell_type": "raw",
   "metadata": {},
   "source": [
    "Syntax:\n",
    "\n",
    "range(start,stop,step size)  \n",
    "\n",
    "1. The start represents the beginning of the iteration.\n",
    "\n",
    "2. The stop represents that the loop will iterate till stop-1. The range(1,5) will generate numbers 1 to 4 iterations. It is optional.\n",
    "\n",
    "3. \n",
    "The step size is used to skip the specific numbers from the iteration. It is optional to use. By default, the step size is 1. It is optional."
   ]
  },
  {
   "cell_type": "markdown",
   "metadata": {},
   "source": [
    "# <h3 id=\"range\">Range</h3>"
   ]
  },
  {
   "cell_type": "markdown",
   "metadata": {},
   "source": [
    "Sometimes, you might want to repeat a given operation many times. Repeated executions like this are performed by <b>loops</b>. We will look at two types of loops, <code>for</code> loops and <code>while</code> loops.\n",
    "\n",
    "Before we discuss loops lets discuss the <code>range</code> object. It is helpful to think of the range object as an ordered list. For now, let's look at the simplest case. If we would like to generate a sequence that contains three elements ordered from 0 to 2 we simply use the following command:\n",
    "\n",
    "\n"
   ]
  },
  {
   "cell_type": "code",
   "execution_count": 53,
   "metadata": {},
   "outputs": [
    {
     "data": {
      "text/plain": [
       "range(0, 3)"
      ]
     },
     "execution_count": 53,
     "metadata": {},
     "output_type": "execute_result"
    }
   ],
   "source": [
    "# Use the range\n",
    "\n",
    "range(3)"
   ]
  },
  {
   "cell_type": "markdown",
   "metadata": {},
   "source": [
    "<img src=\"https://s3-api.us-geo.objectstorage.softlayer.net/cf-courses-data/CognitiveClass/PY0101EN/Chapter%203/Images/LoopsRange.png\" width=\"300\" />"
   ]
  },
  {
   "cell_type": "markdown",
   "metadata": {},
   "source": [
    "![](2.png)"
   ]
  },
  {
   "cell_type": "code",
   "execution_count": 49,
   "metadata": {},
   "outputs": [
    {
     "data": {
      "text/plain": [
       "range(0, 5)"
      ]
     },
     "execution_count": 49,
     "metadata": {},
     "output_type": "execute_result"
    }
   ],
   "source": [
    "range(5)"
   ]
  },
  {
   "cell_type": "code",
   "execution_count": 57,
   "metadata": {},
   "outputs": [
    {
     "data": {
      "text/plain": [
       "range(0, 21)"
      ]
     },
     "execution_count": 57,
     "metadata": {},
     "output_type": "execute_result"
    }
   ],
   "source": [
    "range(0,21)"
   ]
  },
  {
   "cell_type": "code",
   "execution_count": 58,
   "metadata": {},
   "outputs": [
    {
     "name": "stdout",
     "output_type": "stream",
     "text": [
      "0\n",
      "1\n",
      "2\n",
      "3\n",
      "4\n",
      "5\n",
      "6\n",
      "7\n",
      "8\n",
      "9\n"
     ]
    }
   ],
   "source": [
    "for i in range(10):\n",
    "    print(i)\n",
    "\n",
    "\n"
   ]
  },
  {
   "cell_type": "code",
   "execution_count": 50,
   "metadata": {},
   "outputs": [
    {
     "name": "stdout",
     "output_type": "stream",
     "text": [
      "0 1 2 3 4 5 6 7 8 9 "
     ]
    }
   ],
   "source": [
    "#Example-1: Program to print numbers in sequence.\n",
    "\n",
    "for i in range(10):  \n",
    "    print(i,end = ' ')  "
   ]
  },
  {
   "cell_type": "code",
   "execution_count": 59,
   "metadata": {},
   "outputs": [
    {
     "name": "stdout",
     "output_type": "stream",
     "text": [
      "1\n",
      "2\n",
      "3\n",
      "4\n",
      "5\n",
      "6\n",
      "7\n",
      "8\n",
      "9\n",
      "10\n"
     ]
    }
   ],
   "source": [
    "for i in range(1,11):\n",
    "    print(i)"
   ]
  },
  {
   "cell_type": "code",
   "execution_count": 61,
   "metadata": {},
   "outputs": [
    {
     "name": "stdout",
     "output_type": "stream",
     "text": [
      "which table? 12\n"
     ]
    },
    {
     "data": {
      "text/plain": [
       "12"
      ]
     },
     "execution_count": 61,
     "metadata": {},
     "output_type": "execute_result"
    }
   ],
   "source": [
    "int(input('which table? '))"
   ]
  },
  {
   "cell_type": "code",
   "execution_count": 63,
   "metadata": {},
   "outputs": [
    {
     "name": "stdout",
     "output_type": "stream",
     "text": [
      "Enter the number 10\n",
      "10 * 1 = 10\n",
      "10 * 2 = 20\n",
      "10 * 3 = 30\n",
      "10 * 4 = 40\n",
      "10 * 5 = 50\n",
      "10 * 6 = 60\n",
      "10 * 7 = 70\n",
      "10 * 8 = 80\n",
      "10 * 9 = 90\n",
      "10 * 10 = 100\n"
     ]
    }
   ],
   "source": [
    "#Example - 2: Program to print table of given number.\n",
    "\n",
    "n = int(input(\"Enter the number \"))  \n",
    "for i in range(1,11):  \n",
    "    c = n*i  \n",
    "    print(n,\"*\",i,\"=\",c)  "
   ]
  },
  {
   "cell_type": "code",
   "execution_count": 64,
   "metadata": {},
   "outputs": [
    {
     "name": "stdout",
     "output_type": "stream",
     "text": [
      "Enter the number 12\n",
      "2\n",
      "4\n",
      "6\n",
      "8\n",
      "10\n"
     ]
    }
   ],
   "source": [
    "#Example-3: Program to print even number using step size in range().\n",
    "n = int(input(\"Enter the number \"))  \n",
    "for i in range(2,n,2):  \n",
    "    print(i)  "
   ]
  },
  {
   "cell_type": "code",
   "execution_count": 66,
   "metadata": {},
   "outputs": [
    {
     "name": "stdout",
     "output_type": "stream",
     "text": [
      "Enter the number 15\n",
      "1\n",
      "3\n",
      "5\n",
      "7\n",
      "9\n",
      "11\n",
      "13\n"
     ]
    }
   ],
   "source": [
    "### write the code to get first 15 odd numbers\n",
    "n = int(input(\"Enter the number \"))  \n",
    "for i in range(1,n,2):  \n",
    "    print(i)  "
   ]
  },
  {
   "cell_type": "code",
   "execution_count": 67,
   "metadata": {},
   "outputs": [
    {
     "name": "stdout",
     "output_type": "stream",
     "text": [
      "hello a\n",
      "hello b\n",
      "hello c\n",
      "hello d\n"
     ]
    }
   ],
   "source": [
    "l = ['a','b','c','d']\n",
    "print(\"hello\", l[0])\n",
    "print(\"hello\", l[1])\n",
    "print(\"hello\", l[2])\n",
    "print(\"hello\", l[3])"
   ]
  },
  {
   "cell_type": "code",
   "execution_count": 68,
   "metadata": {},
   "outputs": [
    {
     "data": {
      "text/plain": [
       "4"
      ]
     },
     "execution_count": 68,
     "metadata": {},
     "output_type": "execute_result"
    }
   ],
   "source": [
    "len(l)"
   ]
  },
  {
   "cell_type": "code",
   "execution_count": 69,
   "metadata": {},
   "outputs": [
    {
     "name": "stdout",
     "output_type": "stream",
     "text": [
      "Hello Peter\n",
      "Hello Joseph\n",
      "Hello Ricky\n",
      "Hello Devansh\n"
     ]
    }
   ],
   "source": [
    "#We can also use the range() function with sequence of numbers. The len() function is combined with range() function which iterate through a sequence using indexing. Consider the following example.\n",
    "list = ['Peter','Joseph','Ricky','Devansh']  \n",
    "for i in range(len(list)):  \n",
    "    print(\"Hello\",list[i])  "
   ]
  },
  {
   "cell_type": "code",
   "execution_count": 70,
   "metadata": {},
   "outputs": [
    {
     "name": "stdout",
     "output_type": "stream",
     "text": [
      "0\n",
      "1\n",
      "2\n",
      "3\n",
      "4\n"
     ]
    }
   ],
   "source": [
    "for i in range(5):\n",
    "    print(i)"
   ]
  },
  {
   "cell_type": "code",
   "execution_count": 71,
   "metadata": {},
   "outputs": [
    {
     "name": "stdout",
     "output_type": "stream",
     "text": [
      "1\n",
      "2\n",
      "3\n",
      "4\n",
      "5\n",
      "6\n",
      "7\n"
     ]
    }
   ],
   "source": [
    "# Example of for loop\n",
    "\n",
    "for i in range(1, 8):\n",
    "    print(i)"
   ]
  },
  {
   "cell_type": "code",
   "execution_count": null,
   "metadata": {},
   "outputs": [],
   "source": [
    "# print the numbers from 25 with increment 3 upto 35 "
   ]
  },
  {
   "cell_type": "code",
   "execution_count": 12,
   "metadata": {},
   "outputs": [
    {
     "name": "stdout",
     "output_type": "stream",
     "text": [
      "2\n",
      "3\n",
      "4\n",
      "5\n",
      "6\n",
      "7\n"
     ]
    }
   ],
   "source": [
    "# Example of for loop\n",
    "\n",
    "for i in range(2, 8):\n",
    "    print(i)"
   ]
  },
  {
   "cell_type": "code",
   "execution_count": 13,
   "metadata": {},
   "outputs": [
    {
     "name": "stdout",
     "output_type": "stream",
     "text": [
      "Jagan\n",
      "Jagan\n",
      "Jagan\n",
      "Jagan\n",
      "Jagan\n"
     ]
    }
   ],
   "source": [
    "for i in range(5):\n",
    "    print(\"Jagan\")\n"
   ]
  },
  {
   "cell_type": "markdown",
   "metadata": {},
   "source": [
    "# For loop using Sequence"
   ]
  },
  {
   "cell_type": "code",
   "execution_count": 77,
   "metadata": {},
   "outputs": [
    {
     "name": "stdout",
     "output_type": "stream",
     "text": [
      "j\n",
      "a\n",
      "g\n",
      "a\n",
      "n\n"
     ]
    }
   ],
   "source": [
    "# not elegant code\n",
    "str = 'jagan'\n",
    "for i in range(len(str)):\n",
    "    print(str[i])"
   ]
  },
  {
   "cell_type": "code",
   "execution_count": 78,
   "metadata": {},
   "outputs": [
    {
     "name": "stdout",
     "output_type": "stream",
     "text": [
      "j\n",
      "a\n",
      "g\n",
      "a\n",
      "n\n"
     ]
    }
   ],
   "source": [
    "str = 'jagan'\n",
    "for i in str:\n",
    "    print(i)"
   ]
  },
  {
   "cell_type": "code",
   "execution_count": 14,
   "metadata": {},
   "outputs": [
    {
     "name": "stdout",
     "output_type": "stream",
     "text": [
      "P\n",
      "y\n",
      "t\n",
      "h\n",
      "o\n",
      "n\n"
     ]
    }
   ],
   "source": [
    "#Example-: Iterating string using for loop\n",
    "\n",
    "str = \"Python\"  \n",
    "for i in str:  \n",
    "    print(i)  "
   ]
  },
  {
   "cell_type": "markdown",
   "metadata": {},
   "source": [
    "# Iterating by index of sequences: \n",
    "\n",
    "We can also use the index of elements in the sequence to iterate. The key idea is to first calculate the length of the list and in iterate over the sequence within the range of this length. "
   ]
  },
  {
   "cell_type": "code",
   "execution_count": 79,
   "metadata": {},
   "outputs": [
    {
     "name": "stdout",
     "output_type": "stream",
     "text": [
      "python\n",
      "for\n",
      "ML\n"
     ]
    }
   ],
   "source": [
    "# Python program to illustrate\n",
    "# Iterating by index\n",
    "\n",
    "List = [\"python\", \"for\", \"ML\"]\n",
    "for index in range(len(List)):\n",
    "\tprint (List[index])\n"
   ]
  },
  {
   "cell_type": "code",
   "execution_count": 80,
   "metadata": {},
   "outputs": [
    {
     "name": "stdout",
     "output_type": "stream",
     "text": [
      "python\n",
      "for\n",
      "ML\n"
     ]
    }
   ],
   "source": [
    "# write the above code in much simple manner - avoid len function\n",
    "for i in List:\n",
    "    print(i)\n"
   ]
  },
  {
   "cell_type": "code",
   "execution_count": null,
   "metadata": {},
   "outputs": [],
   "source": [
    "# Write a multiplication table for user input (only result)\n"
   ]
  },
  {
   "cell_type": "code",
   "execution_count": 16,
   "metadata": {},
   "outputs": [
    {
     "name": "stdout",
     "output_type": "stream",
     "text": [
      "5\n",
      "10\n",
      "15\n",
      "20\n",
      "25\n",
      "30\n",
      "35\n",
      "40\n",
      "45\n",
      "50\n"
     ]
    }
   ],
   "source": [
    "#Example- 2: Program to print the table of the given number .\n",
    "\n",
    "list = [1,2,3,4,5,6,7,8,9,10]  \n",
    "n = 5  \n",
    "for i in list:  \n",
    "    c = n*i  \n",
    "    print(c) "
   ]
  },
  {
   "cell_type": "code",
   "execution_count": 81,
   "metadata": {},
   "outputs": [
    {
     "name": "stdout",
     "output_type": "stream",
     "text": [
      "The sum is: 183\n"
     ]
    }
   ],
   "source": [
    "#Example-3: Program to print the sum of the given list.\n",
    "\n",
    "list = [10,30,23,43,65,12]  \n",
    "sum = 0  \n",
    "for i in list:  \n",
    "    sum = sum+i  \n",
    "print(\"The sum is:\",sum)  "
   ]
  },
  {
   "cell_type": "code",
   "execution_count": 86,
   "metadata": {},
   "outputs": [
    {
     "name": "stdout",
     "output_type": "stream",
     "text": [
      "enter the number34\n",
      "the result is:  561\n"
     ]
    }
   ],
   "source": [
    "# write the code to compute \n",
    "# sum of first 10 natural numbers ?\n",
    "n = int(input('enter the number'))\n",
    "sum = 0\n",
    "for i in range(1,n):\n",
    "    sum = sum+i\n",
    "print('the result is: ',sum)"
   ]
  },
  {
   "cell_type": "code",
   "execution_count": 83,
   "metadata": {},
   "outputs": [
    {
     "name": "stdout",
     "output_type": "stream",
     "text": [
      "the sum is : 183\n"
     ]
    }
   ],
   "source": [
    "list = [10,30,23,43,65,12]  \n",
    "sum = 0\n",
    "for i in list:\n",
    "    sum = sum+i\n",
    "    print('the sum is :', sum)\n"
   ]
  },
  {
   "cell_type": "code",
   "execution_count": 87,
   "metadata": {},
   "outputs": [
    {
     "name": "stdout",
     "output_type": "stream",
     "text": [
      "3\n",
      "1982\n",
      "1980\n",
      "1973\n"
     ]
    }
   ],
   "source": [
    "# For loop example\n",
    "\n",
    "dates = [1982,1980,1973]\n",
    "N = len(dates)\n",
    "print(N)\n",
    "\n",
    "for i in range(N):\n",
    "    print(dates[i]) "
   ]
  },
  {
   "cell_type": "code",
   "execution_count": 21,
   "metadata": {},
   "outputs": [
    {
     "name": "stdout",
     "output_type": "stream",
     "text": [
      "1982\n",
      "1980\n",
      "1973\n"
     ]
    }
   ],
   "source": [
    "for i in [1982,1980,1973]:\n",
    "    print(i)"
   ]
  },
  {
   "cell_type": "code",
   "execution_count": 22,
   "metadata": {},
   "outputs": [],
   "source": [
    "tech_companies = ['Google', 'Apple', 'Facebook', 'Uber', 'Intel']"
   ]
  },
  {
   "cell_type": "code",
   "execution_count": 89,
   "metadata": {},
   "outputs": [
    {
     "name": "stdout",
     "output_type": "stream",
     "text": [
      "Google\n",
      "Apple\n",
      "Facebook\n",
      "Uber\n",
      "Intel\n"
     ]
    }
   ],
   "source": [
    "for company in tech_companies:\n",
    "    \n",
    "    print(company)"
   ]
  },
  {
   "cell_type": "code",
   "execution_count": 90,
   "metadata": {},
   "outputs": [
    {
     "name": "stdout",
     "output_type": "stream",
     "text": [
      "The number is:  10\n",
      "The number is:  20\n",
      "The number is:  30\n",
      "The number is:  40\n",
      "The number is:  50\n"
     ]
    }
   ],
   "source": [
    "some_numbers = [10, 20, 30, 40, 50]\n",
    "for num in some_numbers:\n",
    "    print('The number is: ', num)"
   ]
  },
  {
   "cell_type": "code",
   "execution_count": 92,
   "metadata": {},
   "outputs": [
    {
     "name": "stdout",
     "output_type": "stream",
     "text": [
      "The current value of total is:  10\n",
      "The current value of total is:  30\n",
      "The current value of total is:  60\n",
      "The current value of total is:  100\n",
      "The current value of total is:  150\n"
     ]
    }
   ],
   "source": [
    "some_numbers = [10, 20, 30, 40, 50]\n",
    "total = 0\n",
    "for num in some_numbers:\n",
    "    total = total + num\n",
    "    print('The current value of total is: ', total)"
   ]
  },
  {
   "cell_type": "code",
   "execution_count": 93,
   "metadata": {},
   "outputs": [
    {
     "name": "stdout",
     "output_type": "stream",
     "text": [
      "The total of all numbers:  150\n"
     ]
    }
   ],
   "source": [
    "some_numbers = [10, 20, 30, 40, 50]\n",
    "total = 0\n",
    "\n",
    "for num in some_numbers:\n",
    "    total = total + num\n",
    "\n",
    "print('The total of all numbers: ', total)"
   ]
  },
  {
   "cell_type": "code",
   "execution_count": 27,
   "metadata": {},
   "outputs": [
    {
     "name": "stdout",
     "output_type": "stream",
     "text": [
      "The total of all numbers (initial value set to 100):  250\n"
     ]
    }
   ],
   "source": [
    "some_numbers = [10, 20, 30, 40, 50]\n",
    "total = 100\n",
    "\n",
    "for num in some_numbers:\n",
    "    total = total + num\n",
    "\n",
    "print('The total of all numbers (initial value set to 100): ', total)"
   ]
  },
  {
   "cell_type": "code",
   "execution_count": 94,
   "metadata": {},
   "outputs": [
    {
     "name": "stdout",
     "output_type": "stream",
     "text": [
      "The total length of the array is:  5\n"
     ]
    }
   ],
   "source": [
    "some_numbers = [10, 20, 30, 40, 50]\n",
    "count = 0\n",
    "\n",
    "for num in some_numbers:\n",
    "    count = count + 1\n",
    "    \n",
    "print('The total length of the array is: ', count)"
   ]
  },
  {
   "cell_type": "code",
   "execution_count": 95,
   "metadata": {},
   "outputs": [
    {
     "name": "stdout",
     "output_type": "stream",
     "text": [
      "Before square  0 is red\n",
      "After square  0 is weight\n",
      "Before square  1 is yellow\n",
      "After square  1 is weight\n",
      "Before square  2 is green\n",
      "After square  2 is weight\n",
      "Before square  3 is purple\n",
      "After square  3 is weight\n",
      "Before square  4 is blue\n",
      "After square  4 is weight\n"
     ]
    }
   ],
   "source": [
    "# Use for loop to change the elements in list\n",
    "\n",
    "squares = ['red', 'yellow', 'green', 'purple', 'blue']\n",
    "\n",
    "for i in range(0, 5):\n",
    "    print(\"Before square \", i, 'is',  squares[i])\n",
    "    squares[i] = 'weight'\n",
    "    print(\"After square \", i, 'is',  squares[i])"
   ]
  },
  {
   "cell_type": "code",
   "execution_count": 96,
   "metadata": {},
   "outputs": [
    {
     "data": {
      "text/plain": [
       "['weight', 'weight', 'weight', 'weight', 'weight']"
      ]
     },
     "execution_count": 96,
     "metadata": {},
     "output_type": "execute_result"
    }
   ],
   "source": [
    "squares"
   ]
  },
  {
   "cell_type": "code",
   "execution_count": 97,
   "metadata": {},
   "outputs": [
    {
     "name": "stdout",
     "output_type": "stream",
     "text": [
      "0 red\n",
      "1 yellow\n",
      "2 green\n",
      "3 purple\n",
      "4 blue\n"
     ]
    }
   ],
   "source": [
    "# Loop through the list and iterate on both index and element value\n",
    "\n",
    "squares=['red', 'yellow', 'green', 'purple', 'blue']\n",
    "\n",
    "for i, square in enumerate(squares):\n",
    "    print(i, square)"
   ]
  },
  {
   "cell_type": "code",
   "execution_count": 101,
   "metadata": {},
   "outputs": [],
   "source": [
    "math_scores = {\n",
    "    \"Ram\": 97, \n",
    "    \"Kumar\": 35,\n",
    "    \"Kishan\": 67,\n",
    "    \"Natasha\": 73 }"
   ]
  },
  {
   "cell_type": "code",
   "execution_count": 99,
   "metadata": {},
   "outputs": [
    {
     "data": {
      "text/plain": [
       "dict_keys(['Ram', 'Kumar', 'Kishan', 'Natasha'])"
      ]
     },
     "execution_count": 99,
     "metadata": {},
     "output_type": "execute_result"
    }
   ],
   "source": [
    "math_scores.keys()"
   ]
  },
  {
   "cell_type": "code",
   "execution_count": 100,
   "metadata": {},
   "outputs": [
    {
     "data": {
      "text/plain": [
       "dict_values([97, 35, 67, 73])"
      ]
     },
     "execution_count": 100,
     "metadata": {},
     "output_type": "execute_result"
    }
   ],
   "source": [
    "math_scores.values()"
   ]
  },
  {
   "cell_type": "code",
   "execution_count": 102,
   "metadata": {},
   "outputs": [
    {
     "name": "stdout",
     "output_type": "stream",
     "text": [
      "97\n",
      "35\n",
      "67\n",
      "73\n"
     ]
    }
   ],
   "source": [
    "for item in math_scores.values():\n",
    "    print(item)"
   ]
  },
  {
   "cell_type": "code",
   "execution_count": 103,
   "metadata": {},
   "outputs": [
    {
     "name": "stdout",
     "output_type": "stream",
     "text": [
      "Ram\n",
      "Kumar\n",
      "Kishan\n",
      "Natasha\n",
      "This retains the value of the last item in the list Natasha\n"
     ]
    }
   ],
   "source": [
    "for item in math_scores:\n",
    "    print(item)\n",
    "    \n",
    "print('This retains the value of the last item in the list', item) "
   ]
  },
  {
   "cell_type": "code",
   "execution_count": 43,
   "metadata": {},
   "outputs": [
    {
     "name": "stdout",
     "output_type": "stream",
     "text": [
      "Ram\n",
      "Kumar\n",
      "Kishan\n",
      "Natasha\n",
      "This retains the value of the last item in the list Natasha\n"
     ]
    }
   ],
   "source": [
    "for key in math_scores.keys():\n",
    "    print(key)\n",
    "    \n",
    "print('This retains the value of the last item in the list', key)   "
   ]
  },
  {
   "cell_type": "code",
   "execution_count": 44,
   "metadata": {},
   "outputs": [
    {
     "name": "stdout",
     "output_type": "stream",
     "text": [
      "97\n",
      "35\n",
      "67\n",
      "73\n"
     ]
    }
   ],
   "source": [
    "for val in math_scores.values():\n",
    "    print(val)"
   ]
  },
  {
   "cell_type": "code",
   "execution_count": 45,
   "metadata": {},
   "outputs": [
    {
     "name": "stdout",
     "output_type": "stream",
     "text": [
      "Key:  Ram 97\n",
      "Key:  Kumar 35\n",
      "Key:  Kishan 67\n",
      "Key:  Natasha 73\n"
     ]
    }
   ],
   "source": [
    "for key in math_scores:\n",
    "    print('Key: ', key, math_scores[key])\n"
   ]
  },
  {
   "cell_type": "code",
   "execution_count": 46,
   "metadata": {},
   "outputs": [
    {
     "name": "stdout",
     "output_type": "stream",
     "text": [
      "('Ram', 97)\n",
      "('Kumar', 35)\n",
      "('Kishan', 67)\n",
      "('Natasha', 73)\n"
     ]
    }
   ],
   "source": [
    "for item in math_scores.items():\n",
    "    print(item)"
   ]
  },
  {
   "cell_type": "code",
   "execution_count": 47,
   "metadata": {},
   "outputs": [
    {
     "name": "stdout",
     "output_type": "stream",
     "text": [
      "Ram 97\n",
      "Kumar 35\n",
      "Kishan 67\n",
      "Natasha 73\n"
     ]
    }
   ],
   "source": [
    "for key, value in math_scores.items():\n",
    "    print(key, value)"
   ]
  },
  {
   "cell_type": "markdown",
   "metadata": {},
   "source": [
    "# Using else statement with for loops: \n",
    "\n"
   ]
  },
  {
   "cell_type": "raw",
   "metadata": {},
   "source": [
    "Unlike other languages like C, C++, or Java, Python allows us to use the else statement with the for loop which can be executed only when all the iterations are exhausted. \n",
    "\n",
    "Here, we must notice that if the loop contains any of the break statement then the else statement will not be executed.\n",
    "\n",
    "We can also combine else statement with for loop like in while loop. \n",
    "\n",
    "But as there is no condition in for loop based on which the execution will terminate so the else block will be executed immediately after for block finishes execution. \n",
    "\n",
    "\n",
    "Below example explains how to do this: "
   ]
  },
  {
   "cell_type": "code",
   "execution_count": 45,
   "metadata": {},
   "outputs": [
    {
     "name": "stdout",
     "output_type": "stream",
     "text": [
      "0\n",
      "1\n",
      "2\n",
      "3\n",
      "4\n",
      "for loop completely exhausted, since there is no break.\n"
     ]
    }
   ],
   "source": [
    "#Example 1\n",
    "for i in range(0,5):    \n",
    "    print(i)    \n",
    "else:  \n",
    "    print(\"for loop completely exhausted, since there is no break.\")  "
   ]
  },
  {
   "cell_type": "code",
   "execution_count": 48,
   "metadata": {},
   "outputs": [
    {
     "name": "stdout",
     "output_type": "stream",
     "text": [
      "India\n",
      "for\n",
      "India\n",
      "Inside Else Block\n"
     ]
    }
   ],
   "source": [
    "# Python program to illustrate\n",
    "# combining else with for\n",
    "\n",
    "List = [\"India\", \"for\", \"India\"]\n",
    "for index in range(len(List)):\n",
    "\tprint (List[index])\n",
    "else:\n",
    "\tprint (\"Inside Else Block\")\n"
   ]
  },
  {
   "cell_type": "code",
   "execution_count": null,
   "metadata": {},
   "outputs": [],
   "source": []
  }
 ],
 "metadata": {
  "kernelspec": {
   "display_name": "Python 3 (ipykernel)",
   "language": "python",
   "name": "python3"
  },
  "language_info": {
   "codemirror_mode": {
    "name": "ipython",
    "version": 3
   },
   "file_extension": ".py",
   "mimetype": "text/x-python",
   "name": "python",
   "nbconvert_exporter": "python",
   "pygments_lexer": "ipython3",
   "version": "3.9.7"
  }
 },
 "nbformat": 4,
 "nbformat_minor": 4
}
